{
  "nbformat": 4,
  "nbformat_minor": 0,
  "metadata": {
    "colab": {
      "provenance": [],
      "mount_file_id": "1v50FisP3BOgO6DFB34Ibr9P1mkXr4C2F",
      "authorship_tag": "ABX9TyMUtWzMKkVWNcg6eEGyzzCe",
      "include_colab_link": true
    },
    "kernelspec": {
      "name": "python3",
      "display_name": "Python 3"
    },
    "language_info": {
      "name": "python"
    }
  },
  "cells": [
    {
      "cell_type": "markdown",
      "metadata": {
        "id": "view-in-github",
        "colab_type": "text"
      },
      "source": [
        "<a href=\"https://colab.research.google.com/github/kalmikko/Data-Randomizer-for-Confidentiality/blob/main/shuffler.ipynb\" target=\"_parent\"><img src=\"https://colab.research.google.com/assets/colab-badge.svg\" alt=\"Open In Colab\"/></a>"
      ]
    },
    {
      "cell_type": "code",
      "source": [
        "\"\"\"known issues:\n",
        "1. floating point inaccuracy results in excess decimals in randomized values\n",
        "2. empty header names in excel replaced with \"Unnamed: x\" header name\n",
        "3. not comprehensively tested with different data structures\n",
        "\"\"\"\n",
        "\n",
        "import pandas as pd\n",
        "import numpy as np\n",
        "import os\n",
        "import random\n",
        "\n",
        "def randomize_value(value):\n",
        "    if pd.isna(value):\n",
        "        return value  # Keep the value as-is if it is NaN (empty)\n",
        "    if isinstance(value, (int, float)):\n",
        "        if isinstance(value, float):\n",
        "            # Handle floats correctly\n",
        "            decimal_places = len(str(value).split('.')[1]) if '.' in str(value) else 0\n",
        "            random_value = round(random.uniform(0, 2 * value), decimal_places)\n",
        "        else:\n",
        "            random_value = random.randint(0, 10**len(str(value)))\n",
        "        return random_value\n",
        "    elif isinstance(value, bool):\n",
        "        return random.choice([True, False])\n",
        "    else:\n",
        "        return value  # Keep the original value for strings and unsupported types\n",
        "\n",
        "def randomize_data(input_file):\n",
        "    \"\"\"Reads a data file, randomizes its values (except strings),\n",
        "    and saves it with the same format.\n",
        "\n",
        "    Args:\n",
        "        input_file: Path to the input data file.\n",
        "    \"\"\"\n",
        "    # Determine file type\n",
        "    file_extension = os.path.splitext(input_file)[1].lower()\n",
        "\n",
        "    if file_extension == '.csv':\n",
        "        df = pd.read_csv(input_file, keep_default_na=True)\n",
        "        df_randomized = df.applymap(randomize_value)\n",
        "        output_file = \"randomized_\" + os.path.basename(input_file)\n",
        "        df_randomized.to_csv(output_file, index=False, na_rep='')\n",
        "\n",
        "    elif file_extension == '.xlsx':\n",
        "        xls = pd.ExcelFile(input_file)\n",
        "        output_file = \"randomized_\" + os.path.basename(input_file)\n",
        "        with pd.ExcelWriter(output_file) as writer:\n",
        "            for sheet_name in xls.sheet_names:\n",
        "                df = pd.read_excel(xls, sheet_name=sheet_name, keep_default_na=True)\n",
        "                df_randomized = df.applymap(randomize_value)\n",
        "                df_randomized.to_excel(writer, sheet_name=sheet_name, index=False, na_rep='')\n",
        "\n",
        "    elif file_extension == '.json':\n",
        "        df = pd.read_json(input_file)\n",
        "        df_randomized = df.applymap(randomize_value)\n",
        "        output_file = \"randomized_\" + os.path.basename(input_file)\n",
        "        df_randomized.to_json(output_file, orient='records')\n",
        "\n",
        "    else:\n",
        "        raise ValueError(\"Unsupported file format. Please provide a CSV, XLSX, or JSON file.\")\n",
        "\n",
        "    print(f\"Randomized data saved to: {output_file}\")\n",
        "\n",
        "# Example usage:\n",
        "input_file = \"/your/folder/your_file.csv\"  # Replace with your file path\n",
        "randomize_data(input_file)"
      ],
      "metadata": {
        "colab": {
          "base_uri": "https://localhost:8080/"
        },
        "id": "aylkQuAa51kS",
        "outputId": "8b5897fc-24bd-4e42-e71a-696183ee5e83"
      },
      "execution_count": 10,
      "outputs": [
        {
          "output_type": "stream",
          "name": "stdout",
          "text": [
            "Randomized data saved to: randomized_xlsx_test.xlsx\n"
          ]
        }
      ]
    },
    {
      "cell_type": "code",
      "source": [
        "ls"
      ],
      "metadata": {
        "colab": {
          "base_uri": "https://localhost:8080/"
        },
        "id": "ll55JVA2BmJf",
        "outputId": "70828717-606e-4572-e9ee-5eb0a6691700"
      },
      "execution_count": 11,
      "outputs": [
        {
          "output_type": "stream",
          "name": "stdout",
          "text": [
            "\u001b[0m\u001b[01;34mdrive\u001b[0m/                   randomized_excel_test.xlsx  randomized_xlsx_test.xlsx\n",
            "randomized_csv_test.csv  randomized_json_test.json   \u001b[01;34msample_data\u001b[0m/\n"
          ]
        }
      ]
    }
  ]
}
